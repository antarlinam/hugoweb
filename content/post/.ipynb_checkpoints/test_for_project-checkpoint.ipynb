{
 "cells": [
  {
   "cell_type": "markdown",
   "id": "cda49cf9",
   "metadata": {},
   "source": [
    "## This is a test file"
   ]
  },
  {
   "cell_type": "markdown",
   "id": "90c6c3e6",
   "metadata": {},
   "source": [
    "Want to see if this works"
   ]
  },
  {
   "cell_type": "code",
   "execution_count": null,
   "id": "474216a4",
   "metadata": {},
   "outputs": [],
   "source": [
    "import pandas as pd\n",
    "import numpy as np\n",
    "import matplotlib.pyplot as plt"
   ]
  }
 ],
 "metadata": {
  "kernelspec": {
   "display_name": "Python 3 (ipykernel)",
   "language": "python",
   "name": "python3"
  },
  "language_info": {
   "codemirror_mode": {
    "name": "ipython",
    "version": 3
   },
   "file_extension": ".py",
   "mimetype": "text/x-python",
   "name": "python",
   "nbconvert_exporter": "python",
   "pygments_lexer": "ipython3",
   "version": "3.7.12"
  }
 },
 "nbformat": 4,
 "nbformat_minor": 5
}
